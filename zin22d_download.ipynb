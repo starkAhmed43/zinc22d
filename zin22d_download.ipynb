{
 "cells": [
  {
   "cell_type": "code",
   "execution_count": null,
   "metadata": {},
   "outputs": [],
   "source": [
    "import requests\n",
    "import re\n",
    "import time\n",
    "\n",
    "from bs4 import BeautifulSoup\n",
    "from multiprocessing.pool import ThreadPool\n",
    "from pathlib import Path\n",
    "from tqdm.auto import tqdm"
   ]
  },
  {
   "cell_type": "code",
   "execution_count": null,
   "metadata": {},
   "outputs": [],
   "source": [
    "savepath = Path(\"./SMI_GZ/\")\n",
    "savepath.mkdir(parents=True,exist_ok=True)\n",
    "\n",
    "base_url = \"https://files.docking.org/zinc22/2d-all/\"\n",
    "H_links = [a[\"href\"] for a in BeautifulSoup(requests.get(base_url).text, \"lxml\").find_all(\"a\", href=re.compile(r'^H'))]\n",
    "\n",
    "def fetch_smi_links(link):\n",
    "    url = base_url + link\n",
    "    smi_links = BeautifulSoup(requests.get(url).text, 'lxml').find_all(\"a\", href=re.compile(r'.*\\.smi\\.gz$'))\n",
    "    smi_links = [elem[\"href\"] for elem in smi_links]\n",
    "    return list(map(lambda link: url + link, smi_links))\n",
    "\n",
    "with ThreadPool(10) as pool:\n",
    "    results = list(tqdm(pool.imap(fetch_smi_links, H_links), total=len(H_links)))\n",
    "\n",
    "download_urls = []\n",
    "for result in results:\n",
    "    download_urls.extend(result)"
   ]
  },
  {
   "cell_type": "code",
   "execution_count": null,
   "metadata": {},
   "outputs": [],
   "source": [
    "def download(url, path):\n",
    "    path = Path(path)\n",
    "    if path.exists():\n",
    "        return\n",
    "    \n",
    "    for attempt in range(5):\n",
    "        try:\n",
    "            response = requests.get(url)\n",
    "            if response.status_code != 200:\n",
    "                print(f\"Failed to download with error code {response.status_code}. Retrying in 2 seconds...\")\n",
    "                time.sleep(2)\n",
    "                continue\n",
    "            with open(path, \"wb\") as file:\n",
    "                file.write(response.content)\n",
    "            return\n",
    "        except requests.RequestException as e:\n",
    "            print(f\"Network error: {e}. Retrying in 2 seconds...\")\n",
    "            time.sleep(2)\n",
    "        except IOError as e:\n",
    "            print(f\"File I/O error: {e}. Retrying in 2 seconds...\")\n",
    "            time.sleep(2)\n",
    "        except Exception as e:\n",
    "            print(f\"An unexpected error occurred: {e}. Retrying in 2 seconds...\")\n",
    "            time.sleep(2)\n",
    "    print(f\"Failed to download {url} to {path}\")\n",
    "    return\n",
    "\n",
    "def download_smi_parallel(urls):\n",
    "    def download_smi(url):\n",
    "        download(url, savepath / url.split(\"/\")[-1])\n",
    "    with tqdm(total=len(urls)) as pbar:\n",
    "        for _ in ThreadPool(20).imap_unordered(download_smi, urls):\n",
    "            pbar.update()"
   ]
  },
  {
   "cell_type": "code",
   "execution_count": null,
   "metadata": {},
   "outputs": [],
   "source": [
    "download_smi_parallel(download_urls)"
   ]
  }
 ],
 "metadata": {
  "kernelspec": {
   "display_name": "base",
   "language": "python",
   "name": "python3"
  },
  "language_info": {
   "codemirror_mode": {
    "name": "ipython",
    "version": 3
   },
   "file_extension": ".py",
   "mimetype": "text/x-python",
   "name": "python",
   "nbconvert_exporter": "python",
   "pygments_lexer": "ipython3",
   "version": "3.11.9"
  }
 },
 "nbformat": 4,
 "nbformat_minor": 2
}
